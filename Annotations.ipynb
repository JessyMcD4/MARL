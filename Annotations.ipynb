{
 "cells": [
  {
   "cell_type": "code",
   "execution_count": 105,
   "metadata": {},
   "outputs": [],
   "source": [
    "import pandas as pd\n",
    "import shutil\n",
    "import os\n",
    "import seaborn as sns\n",
    "import matplotlib.pyplot as plt \n",
    "import csv"
   ]
  },
  {
   "cell_type": "markdown",
   "metadata": {},
   "source": [
    "# SONYC Music Project"
   ]
  },
  {
   "cell_type": "markdown",
   "metadata": {},
   "source": [
    "The SONYC project has recorded more than 100 years' worth of audio data from around New York City. The audio data tells us a lot about the dynamics of the city, including when people are the loudest, traffic, and music played on the streets of the city. In the MARL lab, previous projects have looked at data surrounding 311 noise complaints, but other indicators of the city's social dynamics, such as music, haven't been as throughly explored. The reason we are looking at music is we believe there is valuable information in the music aspect of the SONYC data. Being in touch with the MIR (Music Information Research) community, we believe it will be an important contribution to create a dataset of music in NYC. This type of data will be unique, because most music data is recorded in controlled conditions and/or close field, whereas this project looks at a broader scope of music collection."
   ]
  },
  {
   "cell_type": "markdown",
   "metadata": {},
   "source": [
    "## First, we looked at the SONYC UST dataset and explored the music data it contains."
   ]
  },
  {
   "cell_type": "code",
   "execution_count": 106,
   "metadata": {
    "scrolled": true
   },
   "outputs": [],
   "source": [
    "df_annotations = pd.read_csv(r'C:\\Users\\kmcdo\\Downloads\\annotations.csv')"
   ]
  },
  {
   "cell_type": "code",
   "execution_count": 107,
   "metadata": {},
   "outputs": [],
   "source": [
    "df = df_annotations.copy()"
   ]
  },
  {
   "cell_type": "code",
   "execution_count": 108,
   "metadata": {},
   "outputs": [
    {
     "data": {
      "text/html": [
       "<div>\n",
       "<style scoped>\n",
       "    .dataframe tbody tr th:only-of-type {\n",
       "        vertical-align: middle;\n",
       "    }\n",
       "\n",
       "    .dataframe tbody tr th {\n",
       "        vertical-align: top;\n",
       "    }\n",
       "\n",
       "    .dataframe thead th {\n",
       "        text-align: right;\n",
       "    }\n",
       "</style>\n",
       "<table border=\"1\" class=\"dataframe\">\n",
       "  <thead>\n",
       "    <tr style=\"text-align: right;\">\n",
       "      <th></th>\n",
       "      <th>split</th>\n",
       "      <th>sensor_id</th>\n",
       "      <th>audio_filename</th>\n",
       "      <th>annotator_id</th>\n",
       "      <th>borough</th>\n",
       "      <th>block</th>\n",
       "      <th>latitude</th>\n",
       "      <th>longitude</th>\n",
       "      <th>year</th>\n",
       "      <th>week</th>\n",
       "      <th>...</th>\n",
       "      <th>7-X_other-unknown-human-voice_proximity</th>\n",
       "      <th>8-1_dog-barking-whining_proximity</th>\n",
       "      <th>1_engine_presence</th>\n",
       "      <th>2_machinery-impact_presence</th>\n",
       "      <th>3_non-machinery-impact_presence</th>\n",
       "      <th>4_powered-saw_presence</th>\n",
       "      <th>5_alert-signal_presence</th>\n",
       "      <th>6_music_presence</th>\n",
       "      <th>7_human-voice_presence</th>\n",
       "      <th>8_dog_presence</th>\n",
       "    </tr>\n",
       "  </thead>\n",
       "  <tbody>\n",
       "    <tr>\n",
       "      <th>0</th>\n",
       "      <td>validate</td>\n",
       "      <td>0</td>\n",
       "      <td>00_000066.wav</td>\n",
       "      <td>95</td>\n",
       "      <td>1</td>\n",
       "      <td>547</td>\n",
       "      <td>40.729508</td>\n",
       "      <td>-73.993881</td>\n",
       "      <td>2017</td>\n",
       "      <td>28</td>\n",
       "      <td>...</td>\n",
       "      <td>far</td>\n",
       "      <td>far</td>\n",
       "      <td>1</td>\n",
       "      <td>1</td>\n",
       "      <td>1</td>\n",
       "      <td>1</td>\n",
       "      <td>1</td>\n",
       "      <td>1</td>\n",
       "      <td>1</td>\n",
       "      <td>1</td>\n",
       "    </tr>\n",
       "    <tr>\n",
       "      <th>1</th>\n",
       "      <td>validate</td>\n",
       "      <td>0</td>\n",
       "      <td>00_000066.wav</td>\n",
       "      <td>108</td>\n",
       "      <td>1</td>\n",
       "      <td>547</td>\n",
       "      <td>40.729508</td>\n",
       "      <td>-73.993881</td>\n",
       "      <td>2017</td>\n",
       "      <td>28</td>\n",
       "      <td>...</td>\n",
       "      <td>-1</td>\n",
       "      <td>-1</td>\n",
       "      <td>1</td>\n",
       "      <td>0</td>\n",
       "      <td>0</td>\n",
       "      <td>0</td>\n",
       "      <td>0</td>\n",
       "      <td>0</td>\n",
       "      <td>0</td>\n",
       "      <td>0</td>\n",
       "    </tr>\n",
       "    <tr>\n",
       "      <th>2</th>\n",
       "      <td>validate</td>\n",
       "      <td>0</td>\n",
       "      <td>00_000066.wav</td>\n",
       "      <td>127</td>\n",
       "      <td>1</td>\n",
       "      <td>547</td>\n",
       "      <td>40.729508</td>\n",
       "      <td>-73.993881</td>\n",
       "      <td>2017</td>\n",
       "      <td>28</td>\n",
       "      <td>...</td>\n",
       "      <td>-1</td>\n",
       "      <td>-1</td>\n",
       "      <td>1</td>\n",
       "      <td>0</td>\n",
       "      <td>0</td>\n",
       "      <td>0</td>\n",
       "      <td>0</td>\n",
       "      <td>0</td>\n",
       "      <td>0</td>\n",
       "      <td>0</td>\n",
       "    </tr>\n",
       "    <tr>\n",
       "      <th>3</th>\n",
       "      <td>validate</td>\n",
       "      <td>0</td>\n",
       "      <td>00_000071.wav</td>\n",
       "      <td>64</td>\n",
       "      <td>1</td>\n",
       "      <td>547</td>\n",
       "      <td>40.729508</td>\n",
       "      <td>-73.993881</td>\n",
       "      <td>2016</td>\n",
       "      <td>50</td>\n",
       "      <td>...</td>\n",
       "      <td>-1</td>\n",
       "      <td>-1</td>\n",
       "      <td>1</td>\n",
       "      <td>0</td>\n",
       "      <td>0</td>\n",
       "      <td>0</td>\n",
       "      <td>0</td>\n",
       "      <td>0</td>\n",
       "      <td>0</td>\n",
       "      <td>0</td>\n",
       "    </tr>\n",
       "    <tr>\n",
       "      <th>4</th>\n",
       "      <td>validate</td>\n",
       "      <td>0</td>\n",
       "      <td>00_000071.wav</td>\n",
       "      <td>66</td>\n",
       "      <td>1</td>\n",
       "      <td>547</td>\n",
       "      <td>40.729508</td>\n",
       "      <td>-73.993881</td>\n",
       "      <td>2016</td>\n",
       "      <td>50</td>\n",
       "      <td>...</td>\n",
       "      <td>-1</td>\n",
       "      <td>-1</td>\n",
       "      <td>0</td>\n",
       "      <td>0</td>\n",
       "      <td>0</td>\n",
       "      <td>1</td>\n",
       "      <td>0</td>\n",
       "      <td>0</td>\n",
       "      <td>0</td>\n",
       "      <td>0</td>\n",
       "    </tr>\n",
       "    <tr>\n",
       "      <th>...</th>\n",
       "      <td>...</td>\n",
       "      <td>...</td>\n",
       "      <td>...</td>\n",
       "      <td>...</td>\n",
       "      <td>...</td>\n",
       "      <td>...</td>\n",
       "      <td>...</td>\n",
       "      <td>...</td>\n",
       "      <td>...</td>\n",
       "      <td>...</td>\n",
       "      <td>...</td>\n",
       "      <td>...</td>\n",
       "      <td>...</td>\n",
       "      <td>...</td>\n",
       "      <td>...</td>\n",
       "      <td>...</td>\n",
       "      <td>...</td>\n",
       "      <td>...</td>\n",
       "      <td>...</td>\n",
       "      <td>...</td>\n",
       "      <td>...</td>\n",
       "    </tr>\n",
       "    <tr>\n",
       "      <th>56775</th>\n",
       "      <td>validate</td>\n",
       "      <td>10</td>\n",
       "      <td>10_003220.wav</td>\n",
       "      <td>-4</td>\n",
       "      <td>1</td>\n",
       "      <td>481</td>\n",
       "      <td>40.721046</td>\n",
       "      <td>-73.997280</td>\n",
       "      <td>2017</td>\n",
       "      <td>44</td>\n",
       "      <td>...</td>\n",
       "      <td>-1</td>\n",
       "      <td>-1</td>\n",
       "      <td>1</td>\n",
       "      <td>-1</td>\n",
       "      <td>-1</td>\n",
       "      <td>-1</td>\n",
       "      <td>-1</td>\n",
       "      <td>-1</td>\n",
       "      <td>-1</td>\n",
       "      <td>-1</td>\n",
       "    </tr>\n",
       "    <tr>\n",
       "      <th>56776</th>\n",
       "      <td>validate</td>\n",
       "      <td>10</td>\n",
       "      <td>10_003220.wav</td>\n",
       "      <td>-2</td>\n",
       "      <td>1</td>\n",
       "      <td>481</td>\n",
       "      <td>40.721046</td>\n",
       "      <td>-73.997280</td>\n",
       "      <td>2017</td>\n",
       "      <td>44</td>\n",
       "      <td>...</td>\n",
       "      <td>-1</td>\n",
       "      <td>-1</td>\n",
       "      <td>-1</td>\n",
       "      <td>-1</td>\n",
       "      <td>-1</td>\n",
       "      <td>-1</td>\n",
       "      <td>1</td>\n",
       "      <td>-1</td>\n",
       "      <td>-1</td>\n",
       "      <td>-1</td>\n",
       "    </tr>\n",
       "    <tr>\n",
       "      <th>56777</th>\n",
       "      <td>validate</td>\n",
       "      <td>10</td>\n",
       "      <td>10_003220.wav</td>\n",
       "      <td>-1</td>\n",
       "      <td>1</td>\n",
       "      <td>481</td>\n",
       "      <td>40.721046</td>\n",
       "      <td>-73.997280</td>\n",
       "      <td>2017</td>\n",
       "      <td>44</td>\n",
       "      <td>...</td>\n",
       "      <td>-1</td>\n",
       "      <td>-1</td>\n",
       "      <td>1</td>\n",
       "      <td>-1</td>\n",
       "      <td>-1</td>\n",
       "      <td>-1</td>\n",
       "      <td>-1</td>\n",
       "      <td>-1</td>\n",
       "      <td>-1</td>\n",
       "      <td>-1</td>\n",
       "    </tr>\n",
       "    <tr>\n",
       "      <th>56778</th>\n",
       "      <td>validate</td>\n",
       "      <td>10</td>\n",
       "      <td>10_003220.wav</td>\n",
       "      <td>-1</td>\n",
       "      <td>1</td>\n",
       "      <td>481</td>\n",
       "      <td>40.721046</td>\n",
       "      <td>-73.997280</td>\n",
       "      <td>2017</td>\n",
       "      <td>44</td>\n",
       "      <td>...</td>\n",
       "      <td>-1</td>\n",
       "      <td>-1</td>\n",
       "      <td>-1</td>\n",
       "      <td>-1</td>\n",
       "      <td>-1</td>\n",
       "      <td>-1</td>\n",
       "      <td>1</td>\n",
       "      <td>-1</td>\n",
       "      <td>-1</td>\n",
       "      <td>-1</td>\n",
       "    </tr>\n",
       "    <tr>\n",
       "      <th>56779</th>\n",
       "      <td>validate</td>\n",
       "      <td>10</td>\n",
       "      <td>10_003220.wav</td>\n",
       "      <td>0</td>\n",
       "      <td>1</td>\n",
       "      <td>481</td>\n",
       "      <td>40.721046</td>\n",
       "      <td>-73.997280</td>\n",
       "      <td>2017</td>\n",
       "      <td>44</td>\n",
       "      <td>...</td>\n",
       "      <td>-1</td>\n",
       "      <td>-1</td>\n",
       "      <td>1</td>\n",
       "      <td>0</td>\n",
       "      <td>0</td>\n",
       "      <td>0</td>\n",
       "      <td>1</td>\n",
       "      <td>0</td>\n",
       "      <td>0</td>\n",
       "      <td>0</td>\n",
       "    </tr>\n",
       "  </tbody>\n",
       "</table>\n",
       "<p>56780 rows × 78 columns</p>\n",
       "</div>"
      ],
      "text/plain": [
       "          split  sensor_id audio_filename  annotator_id  borough  block  \\\n",
       "0      validate          0  00_000066.wav            95        1    547   \n",
       "1      validate          0  00_000066.wav           108        1    547   \n",
       "2      validate          0  00_000066.wav           127        1    547   \n",
       "3      validate          0  00_000071.wav            64        1    547   \n",
       "4      validate          0  00_000071.wav            66        1    547   \n",
       "...         ...        ...            ...           ...      ...    ...   \n",
       "56775  validate         10  10_003220.wav            -4        1    481   \n",
       "56776  validate         10  10_003220.wav            -2        1    481   \n",
       "56777  validate         10  10_003220.wav            -1        1    481   \n",
       "56778  validate         10  10_003220.wav            -1        1    481   \n",
       "56779  validate         10  10_003220.wav             0        1    481   \n",
       "\n",
       "        latitude  longitude  year  week  ...  \\\n",
       "0      40.729508 -73.993881  2017    28  ...   \n",
       "1      40.729508 -73.993881  2017    28  ...   \n",
       "2      40.729508 -73.993881  2017    28  ...   \n",
       "3      40.729508 -73.993881  2016    50  ...   \n",
       "4      40.729508 -73.993881  2016    50  ...   \n",
       "...          ...        ...   ...   ...  ...   \n",
       "56775  40.721046 -73.997280  2017    44  ...   \n",
       "56776  40.721046 -73.997280  2017    44  ...   \n",
       "56777  40.721046 -73.997280  2017    44  ...   \n",
       "56778  40.721046 -73.997280  2017    44  ...   \n",
       "56779  40.721046 -73.997280  2017    44  ...   \n",
       "\n",
       "       7-X_other-unknown-human-voice_proximity  \\\n",
       "0                                          far   \n",
       "1                                           -1   \n",
       "2                                           -1   \n",
       "3                                           -1   \n",
       "4                                           -1   \n",
       "...                                        ...   \n",
       "56775                                       -1   \n",
       "56776                                       -1   \n",
       "56777                                       -1   \n",
       "56778                                       -1   \n",
       "56779                                       -1   \n",
       "\n",
       "       8-1_dog-barking-whining_proximity  1_engine_presence  \\\n",
       "0                                    far                  1   \n",
       "1                                     -1                  1   \n",
       "2                                     -1                  1   \n",
       "3                                     -1                  1   \n",
       "4                                     -1                  0   \n",
       "...                                  ...                ...   \n",
       "56775                                 -1                  1   \n",
       "56776                                 -1                 -1   \n",
       "56777                                 -1                  1   \n",
       "56778                                 -1                 -1   \n",
       "56779                                 -1                  1   \n",
       "\n",
       "       2_machinery-impact_presence  3_non-machinery-impact_presence  \\\n",
       "0                                1                                1   \n",
       "1                                0                                0   \n",
       "2                                0                                0   \n",
       "3                                0                                0   \n",
       "4                                0                                0   \n",
       "...                            ...                              ...   \n",
       "56775                           -1                               -1   \n",
       "56776                           -1                               -1   \n",
       "56777                           -1                               -1   \n",
       "56778                           -1                               -1   \n",
       "56779                            0                                0   \n",
       "\n",
       "       4_powered-saw_presence  5_alert-signal_presence  6_music_presence  \\\n",
       "0                           1                        1                 1   \n",
       "1                           0                        0                 0   \n",
       "2                           0                        0                 0   \n",
       "3                           0                        0                 0   \n",
       "4                           1                        0                 0   \n",
       "...                       ...                      ...               ...   \n",
       "56775                      -1                       -1                -1   \n",
       "56776                      -1                        1                -1   \n",
       "56777                      -1                       -1                -1   \n",
       "56778                      -1                        1                -1   \n",
       "56779                       0                        1                 0   \n",
       "\n",
       "       7_human-voice_presence  8_dog_presence  \n",
       "0                           1               1  \n",
       "1                           0               0  \n",
       "2                           0               0  \n",
       "3                           0               0  \n",
       "4                           0               0  \n",
       "...                       ...             ...  \n",
       "56775                      -1              -1  \n",
       "56776                      -1              -1  \n",
       "56777                      -1              -1  \n",
       "56778                      -1              -1  \n",
       "56779                       0               0  \n",
       "\n",
       "[56780 rows x 78 columns]"
      ]
     },
     "execution_count": 108,
     "metadata": {},
     "output_type": "execute_result"
    }
   ],
   "source": [
    "df"
   ]
  },
  {
   "cell_type": "code",
   "execution_count": 109,
   "metadata": {},
   "outputs": [
    {
     "data": {
      "text/html": [
       "<div>\n",
       "<style scoped>\n",
       "    .dataframe tbody tr th:only-of-type {\n",
       "        vertical-align: middle;\n",
       "    }\n",
       "\n",
       "    .dataframe tbody tr th {\n",
       "        vertical-align: top;\n",
       "    }\n",
       "\n",
       "    .dataframe thead th {\n",
       "        text-align: right;\n",
       "    }\n",
       "</style>\n",
       "<table border=\"1\" class=\"dataframe\">\n",
       "  <thead>\n",
       "    <tr style=\"text-align: right;\">\n",
       "      <th></th>\n",
       "      <th>sensor_id</th>\n",
       "      <th>annotator_id</th>\n",
       "      <th>borough</th>\n",
       "      <th>block</th>\n",
       "      <th>latitude</th>\n",
       "      <th>longitude</th>\n",
       "      <th>year</th>\n",
       "      <th>week</th>\n",
       "      <th>day</th>\n",
       "      <th>hour</th>\n",
       "      <th>...</th>\n",
       "      <th>7-X_other-unknown-human-voice_presence</th>\n",
       "      <th>8-1_dog-barking-whining_presence</th>\n",
       "      <th>1_engine_presence</th>\n",
       "      <th>2_machinery-impact_presence</th>\n",
       "      <th>3_non-machinery-impact_presence</th>\n",
       "      <th>4_powered-saw_presence</th>\n",
       "      <th>5_alert-signal_presence</th>\n",
       "      <th>6_music_presence</th>\n",
       "      <th>7_human-voice_presence</th>\n",
       "      <th>8_dog_presence</th>\n",
       "    </tr>\n",
       "    <tr>\n",
       "      <th>audio_filename</th>\n",
       "      <th></th>\n",
       "      <th></th>\n",
       "      <th></th>\n",
       "      <th></th>\n",
       "      <th></th>\n",
       "      <th></th>\n",
       "      <th></th>\n",
       "      <th></th>\n",
       "      <th></th>\n",
       "      <th></th>\n",
       "      <th></th>\n",
       "      <th></th>\n",
       "      <th></th>\n",
       "      <th></th>\n",
       "      <th></th>\n",
       "      <th></th>\n",
       "      <th></th>\n",
       "      <th></th>\n",
       "      <th></th>\n",
       "      <th></th>\n",
       "      <th></th>\n",
       "    </tr>\n",
       "  </thead>\n",
       "  <tbody>\n",
       "    <tr>\n",
       "      <th>00_000066.wav</th>\n",
       "      <td>0.0</td>\n",
       "      <td>14.650000</td>\n",
       "      <td>1.0</td>\n",
       "      <td>547.0</td>\n",
       "      <td>40.729508</td>\n",
       "      <td>-73.993881</td>\n",
       "      <td>2017.0</td>\n",
       "      <td>28.0</td>\n",
       "      <td>2.0</td>\n",
       "      <td>0.0</td>\n",
       "      <td>...</td>\n",
       "      <td>-0.650000</td>\n",
       "      <td>-0.65</td>\n",
       "      <td>-0.400000</td>\n",
       "      <td>-0.650000</td>\n",
       "      <td>-0.650000</td>\n",
       "      <td>-0.650000</td>\n",
       "      <td>-0.65</td>\n",
       "      <td>-0.65</td>\n",
       "      <td>-0.650000</td>\n",
       "      <td>-0.65</td>\n",
       "    </tr>\n",
       "    <tr>\n",
       "      <th>00_000071.wav</th>\n",
       "      <td>0.0</td>\n",
       "      <td>87.666667</td>\n",
       "      <td>1.0</td>\n",
       "      <td>547.0</td>\n",
       "      <td>40.729508</td>\n",
       "      <td>-73.993881</td>\n",
       "      <td>2016.0</td>\n",
       "      <td>50.0</td>\n",
       "      <td>5.0</td>\n",
       "      <td>13.0</td>\n",
       "      <td>...</td>\n",
       "      <td>0.000000</td>\n",
       "      <td>0.00</td>\n",
       "      <td>0.333333</td>\n",
       "      <td>0.333333</td>\n",
       "      <td>0.000000</td>\n",
       "      <td>0.333333</td>\n",
       "      <td>0.00</td>\n",
       "      <td>0.00</td>\n",
       "      <td>0.000000</td>\n",
       "      <td>0.00</td>\n",
       "    </tr>\n",
       "    <tr>\n",
       "      <th>00_000085.wav</th>\n",
       "      <td>0.0</td>\n",
       "      <td>116.333333</td>\n",
       "      <td>1.0</td>\n",
       "      <td>547.0</td>\n",
       "      <td>40.729508</td>\n",
       "      <td>-73.993881</td>\n",
       "      <td>2017.0</td>\n",
       "      <td>3.0</td>\n",
       "      <td>0.0</td>\n",
       "      <td>9.0</td>\n",
       "      <td>...</td>\n",
       "      <td>0.000000</td>\n",
       "      <td>0.00</td>\n",
       "      <td>0.333333</td>\n",
       "      <td>0.333333</td>\n",
       "      <td>0.000000</td>\n",
       "      <td>0.333333</td>\n",
       "      <td>0.00</td>\n",
       "      <td>0.00</td>\n",
       "      <td>0.000000</td>\n",
       "      <td>0.00</td>\n",
       "    </tr>\n",
       "    <tr>\n",
       "      <th>00_000118.wav</th>\n",
       "      <td>0.0</td>\n",
       "      <td>28.250000</td>\n",
       "      <td>1.0</td>\n",
       "      <td>547.0</td>\n",
       "      <td>40.729508</td>\n",
       "      <td>-73.993881</td>\n",
       "      <td>2017.0</td>\n",
       "      <td>40.0</td>\n",
       "      <td>0.0</td>\n",
       "      <td>21.0</td>\n",
       "      <td>...</td>\n",
       "      <td>-0.250000</td>\n",
       "      <td>-0.50</td>\n",
       "      <td>0.250000</td>\n",
       "      <td>-0.500000</td>\n",
       "      <td>-0.500000</td>\n",
       "      <td>-0.500000</td>\n",
       "      <td>-0.50</td>\n",
       "      <td>-0.50</td>\n",
       "      <td>0.375000</td>\n",
       "      <td>-0.50</td>\n",
       "    </tr>\n",
       "    <tr>\n",
       "      <th>00_000179.wav</th>\n",
       "      <td>0.0</td>\n",
       "      <td>83.000000</td>\n",
       "      <td>1.0</td>\n",
       "      <td>547.0</td>\n",
       "      <td>40.729508</td>\n",
       "      <td>-73.993881</td>\n",
       "      <td>2016.0</td>\n",
       "      <td>45.0</td>\n",
       "      <td>3.0</td>\n",
       "      <td>9.0</td>\n",
       "      <td>...</td>\n",
       "      <td>0.000000</td>\n",
       "      <td>0.00</td>\n",
       "      <td>0.333333</td>\n",
       "      <td>0.000000</td>\n",
       "      <td>0.000000</td>\n",
       "      <td>0.333333</td>\n",
       "      <td>0.00</td>\n",
       "      <td>0.00</td>\n",
       "      <td>0.000000</td>\n",
       "      <td>0.00</td>\n",
       "    </tr>\n",
       "    <tr>\n",
       "      <th>...</th>\n",
       "      <td>...</td>\n",
       "      <td>...</td>\n",
       "      <td>...</td>\n",
       "      <td>...</td>\n",
       "      <td>...</td>\n",
       "      <td>...</td>\n",
       "      <td>...</td>\n",
       "      <td>...</td>\n",
       "      <td>...</td>\n",
       "      <td>...</td>\n",
       "      <td>...</td>\n",
       "      <td>...</td>\n",
       "      <td>...</td>\n",
       "      <td>...</td>\n",
       "      <td>...</td>\n",
       "      <td>...</td>\n",
       "      <td>...</td>\n",
       "      <td>...</td>\n",
       "      <td>...</td>\n",
       "      <td>...</td>\n",
       "      <td>...</td>\n",
       "    </tr>\n",
       "    <tr>\n",
       "      <th>46_020426.wav</th>\n",
       "      <td>46.0</td>\n",
       "      <td>5405.333333</td>\n",
       "      <td>1.0</td>\n",
       "      <td>559.0</td>\n",
       "      <td>40.733647</td>\n",
       "      <td>-73.988785</td>\n",
       "      <td>2019.0</td>\n",
       "      <td>3.0</td>\n",
       "      <td>3.0</td>\n",
       "      <td>10.0</td>\n",
       "      <td>...</td>\n",
       "      <td>0.000000</td>\n",
       "      <td>0.00</td>\n",
       "      <td>0.000000</td>\n",
       "      <td>0.333333</td>\n",
       "      <td>0.000000</td>\n",
       "      <td>0.000000</td>\n",
       "      <td>0.00</td>\n",
       "      <td>0.00</td>\n",
       "      <td>0.000000</td>\n",
       "      <td>0.00</td>\n",
       "    </tr>\n",
       "    <tr>\n",
       "      <th>46_020573.wav</th>\n",
       "      <td>46.0</td>\n",
       "      <td>5276.333333</td>\n",
       "      <td>1.0</td>\n",
       "      <td>559.0</td>\n",
       "      <td>40.733647</td>\n",
       "      <td>-73.988785</td>\n",
       "      <td>2018.0</td>\n",
       "      <td>38.0</td>\n",
       "      <td>3.0</td>\n",
       "      <td>22.0</td>\n",
       "      <td>...</td>\n",
       "      <td>0.000000</td>\n",
       "      <td>0.00</td>\n",
       "      <td>0.333333</td>\n",
       "      <td>0.333333</td>\n",
       "      <td>0.000000</td>\n",
       "      <td>0.000000</td>\n",
       "      <td>0.00</td>\n",
       "      <td>0.00</td>\n",
       "      <td>0.000000</td>\n",
       "      <td>0.00</td>\n",
       "    </tr>\n",
       "    <tr>\n",
       "      <th>46_020723.wav</th>\n",
       "      <td>46.0</td>\n",
       "      <td>5381.000000</td>\n",
       "      <td>1.0</td>\n",
       "      <td>559.0</td>\n",
       "      <td>40.733647</td>\n",
       "      <td>-73.988785</td>\n",
       "      <td>2018.0</td>\n",
       "      <td>41.0</td>\n",
       "      <td>0.0</td>\n",
       "      <td>10.0</td>\n",
       "      <td>...</td>\n",
       "      <td>0.000000</td>\n",
       "      <td>0.00</td>\n",
       "      <td>1.000000</td>\n",
       "      <td>0.000000</td>\n",
       "      <td>0.000000</td>\n",
       "      <td>0.000000</td>\n",
       "      <td>0.00</td>\n",
       "      <td>0.00</td>\n",
       "      <td>0.000000</td>\n",
       "      <td>0.00</td>\n",
       "    </tr>\n",
       "    <tr>\n",
       "      <th>46_020807.wav</th>\n",
       "      <td>46.0</td>\n",
       "      <td>5386.666667</td>\n",
       "      <td>1.0</td>\n",
       "      <td>559.0</td>\n",
       "      <td>40.733647</td>\n",
       "      <td>-73.988785</td>\n",
       "      <td>2018.0</td>\n",
       "      <td>42.0</td>\n",
       "      <td>5.0</td>\n",
       "      <td>19.0</td>\n",
       "      <td>...</td>\n",
       "      <td>0.000000</td>\n",
       "      <td>0.00</td>\n",
       "      <td>0.000000</td>\n",
       "      <td>0.000000</td>\n",
       "      <td>0.000000</td>\n",
       "      <td>0.000000</td>\n",
       "      <td>1.00</td>\n",
       "      <td>0.00</td>\n",
       "      <td>0.333333</td>\n",
       "      <td>0.00</td>\n",
       "    </tr>\n",
       "    <tr>\n",
       "      <th>46_020853.wav</th>\n",
       "      <td>46.0</td>\n",
       "      <td>5358.333333</td>\n",
       "      <td>1.0</td>\n",
       "      <td>559.0</td>\n",
       "      <td>40.733647</td>\n",
       "      <td>-73.988785</td>\n",
       "      <td>2018.0</td>\n",
       "      <td>34.0</td>\n",
       "      <td>2.0</td>\n",
       "      <td>9.0</td>\n",
       "      <td>...</td>\n",
       "      <td>0.333333</td>\n",
       "      <td>0.00</td>\n",
       "      <td>0.333333</td>\n",
       "      <td>0.000000</td>\n",
       "      <td>0.333333</td>\n",
       "      <td>0.000000</td>\n",
       "      <td>0.00</td>\n",
       "      <td>0.00</td>\n",
       "      <td>0.666667</td>\n",
       "      <td>0.00</td>\n",
       "    </tr>\n",
       "  </tbody>\n",
       "</table>\n",
       "<p>17846 rows × 47 columns</p>\n",
       "</div>"
      ],
      "text/plain": [
       "                sensor_id  annotator_id  borough  block   latitude  longitude  \\\n",
       "audio_filename                                                                  \n",
       "00_000066.wav         0.0     14.650000      1.0  547.0  40.729508 -73.993881   \n",
       "00_000071.wav         0.0     87.666667      1.0  547.0  40.729508 -73.993881   \n",
       "00_000085.wav         0.0    116.333333      1.0  547.0  40.729508 -73.993881   \n",
       "00_000118.wav         0.0     28.250000      1.0  547.0  40.729508 -73.993881   \n",
       "00_000179.wav         0.0     83.000000      1.0  547.0  40.729508 -73.993881   \n",
       "...                   ...           ...      ...    ...        ...        ...   \n",
       "46_020426.wav        46.0   5405.333333      1.0  559.0  40.733647 -73.988785   \n",
       "46_020573.wav        46.0   5276.333333      1.0  559.0  40.733647 -73.988785   \n",
       "46_020723.wav        46.0   5381.000000      1.0  559.0  40.733647 -73.988785   \n",
       "46_020807.wav        46.0   5386.666667      1.0  559.0  40.733647 -73.988785   \n",
       "46_020853.wav        46.0   5358.333333      1.0  559.0  40.733647 -73.988785   \n",
       "\n",
       "                  year  week  day  hour  ...  \\\n",
       "audio_filename                           ...   \n",
       "00_000066.wav   2017.0  28.0  2.0   0.0  ...   \n",
       "00_000071.wav   2016.0  50.0  5.0  13.0  ...   \n",
       "00_000085.wav   2017.0   3.0  0.0   9.0  ...   \n",
       "00_000118.wav   2017.0  40.0  0.0  21.0  ...   \n",
       "00_000179.wav   2016.0  45.0  3.0   9.0  ...   \n",
       "...                ...   ...  ...   ...  ...   \n",
       "46_020426.wav   2019.0   3.0  3.0  10.0  ...   \n",
       "46_020573.wav   2018.0  38.0  3.0  22.0  ...   \n",
       "46_020723.wav   2018.0  41.0  0.0  10.0  ...   \n",
       "46_020807.wav   2018.0  42.0  5.0  19.0  ...   \n",
       "46_020853.wav   2018.0  34.0  2.0   9.0  ...   \n",
       "\n",
       "                7-X_other-unknown-human-voice_presence  \\\n",
       "audio_filename                                           \n",
       "00_000066.wav                                -0.650000   \n",
       "00_000071.wav                                 0.000000   \n",
       "00_000085.wav                                 0.000000   \n",
       "00_000118.wav                                -0.250000   \n",
       "00_000179.wav                                 0.000000   \n",
       "...                                                ...   \n",
       "46_020426.wav                                 0.000000   \n",
       "46_020573.wav                                 0.000000   \n",
       "46_020723.wav                                 0.000000   \n",
       "46_020807.wav                                 0.000000   \n",
       "46_020853.wav                                 0.333333   \n",
       "\n",
       "                8-1_dog-barking-whining_presence  1_engine_presence  \\\n",
       "audio_filename                                                        \n",
       "00_000066.wav                              -0.65          -0.400000   \n",
       "00_000071.wav                               0.00           0.333333   \n",
       "00_000085.wav                               0.00           0.333333   \n",
       "00_000118.wav                              -0.50           0.250000   \n",
       "00_000179.wav                               0.00           0.333333   \n",
       "...                                          ...                ...   \n",
       "46_020426.wav                               0.00           0.000000   \n",
       "46_020573.wav                               0.00           0.333333   \n",
       "46_020723.wav                               0.00           1.000000   \n",
       "46_020807.wav                               0.00           0.000000   \n",
       "46_020853.wav                               0.00           0.333333   \n",
       "\n",
       "                2_machinery-impact_presence  3_non-machinery-impact_presence  \\\n",
       "audio_filename                                                                 \n",
       "00_000066.wav                     -0.650000                        -0.650000   \n",
       "00_000071.wav                      0.333333                         0.000000   \n",
       "00_000085.wav                      0.333333                         0.000000   \n",
       "00_000118.wav                     -0.500000                        -0.500000   \n",
       "00_000179.wav                      0.000000                         0.000000   \n",
       "...                                     ...                              ...   \n",
       "46_020426.wav                      0.333333                         0.000000   \n",
       "46_020573.wav                      0.333333                         0.000000   \n",
       "46_020723.wav                      0.000000                         0.000000   \n",
       "46_020807.wav                      0.000000                         0.000000   \n",
       "46_020853.wav                      0.000000                         0.333333   \n",
       "\n",
       "                4_powered-saw_presence  5_alert-signal_presence  \\\n",
       "audio_filename                                                    \n",
       "00_000066.wav                -0.650000                    -0.65   \n",
       "00_000071.wav                 0.333333                     0.00   \n",
       "00_000085.wav                 0.333333                     0.00   \n",
       "00_000118.wav                -0.500000                    -0.50   \n",
       "00_000179.wav                 0.333333                     0.00   \n",
       "...                                ...                      ...   \n",
       "46_020426.wav                 0.000000                     0.00   \n",
       "46_020573.wav                 0.000000                     0.00   \n",
       "46_020723.wav                 0.000000                     0.00   \n",
       "46_020807.wav                 0.000000                     1.00   \n",
       "46_020853.wav                 0.000000                     0.00   \n",
       "\n",
       "                6_music_presence  7_human-voice_presence  8_dog_presence  \n",
       "audio_filename                                                            \n",
       "00_000066.wav              -0.65               -0.650000           -0.65  \n",
       "00_000071.wav               0.00                0.000000            0.00  \n",
       "00_000085.wav               0.00                0.000000            0.00  \n",
       "00_000118.wav              -0.50                0.375000           -0.50  \n",
       "00_000179.wav               0.00                0.000000            0.00  \n",
       "...                          ...                     ...             ...  \n",
       "46_020426.wav               0.00                0.000000            0.00  \n",
       "46_020573.wav               0.00                0.000000            0.00  \n",
       "46_020723.wav               0.00                0.000000            0.00  \n",
       "46_020807.wav               0.00                0.333333            0.00  \n",
       "46_020853.wav               0.00                0.666667            0.00  \n",
       "\n",
       "[17846 rows x 47 columns]"
      ]
     },
     "execution_count": 109,
     "metadata": {},
     "output_type": "execute_result"
    }
   ],
   "source": [
    "df_new = df_annotations.groupby(\"audio_filename\").mean()\n",
    "df_new"
   ]
  },
  {
   "cell_type": "code",
   "execution_count": 110,
   "metadata": {
    "scrolled": true
   },
   "outputs": [],
   "source": [
    "#Dropping columns we don't need\n",
    "df = df.drop(df.loc[:, '1-1_small-sounding-engine_presence':'5_alert-signal_presence'].columns, axis = 1)\n",
    "df = df.drop(df.loc[:, '7_human-voice_presence':'8_dog_presence'].columns, axis = 1)"
   ]
  },
  {
   "cell_type": "code",
   "execution_count": 111,
   "metadata": {},
   "outputs": [],
   "source": [
    "#Filtering rows to exclude non-music recordings\n",
    "music_present = df['6_music_presence']==1\n",
    "music_is_present = df[music_present]\n",
    "df = music_is_present"
   ]
  },
  {
   "cell_type": "code",
   "execution_count": 112,
   "metadata": {},
   "outputs": [
    {
     "data": {
      "text/html": [
       "<div>\n",
       "<style scoped>\n",
       "    .dataframe tbody tr th:only-of-type {\n",
       "        vertical-align: middle;\n",
       "    }\n",
       "\n",
       "    .dataframe tbody tr th {\n",
       "        vertical-align: top;\n",
       "    }\n",
       "\n",
       "    .dataframe thead th {\n",
       "        text-align: right;\n",
       "    }\n",
       "</style>\n",
       "<table border=\"1\" class=\"dataframe\">\n",
       "  <thead>\n",
       "    <tr style=\"text-align: right;\">\n",
       "      <th></th>\n",
       "      <th>sensor_id</th>\n",
       "      <th>audio_filename</th>\n",
       "      <th>borough</th>\n",
       "      <th>block</th>\n",
       "      <th>longitude</th>\n",
       "      <th>latitude</th>\n",
       "      <th>year</th>\n",
       "      <th>week</th>\n",
       "      <th>day</th>\n",
       "      <th>hour</th>\n",
       "      <th>annotator_id</th>\n",
       "      <th>6_music_presence</th>\n",
       "    </tr>\n",
       "  </thead>\n",
       "  <tbody>\n",
       "    <tr>\n",
       "      <th>0</th>\n",
       "      <td>0</td>\n",
       "      <td>00_000066.wav</td>\n",
       "      <td>1</td>\n",
       "      <td>547</td>\n",
       "      <td>-73.993881</td>\n",
       "      <td>40.729508</td>\n",
       "      <td>2017</td>\n",
       "      <td>28</td>\n",
       "      <td>2</td>\n",
       "      <td>0</td>\n",
       "      <td>95.0</td>\n",
       "      <td>1.0</td>\n",
       "    </tr>\n",
       "    <tr>\n",
       "      <th>1</th>\n",
       "      <td>0</td>\n",
       "      <td>00_001707.wav</td>\n",
       "      <td>1</td>\n",
       "      <td>547</td>\n",
       "      <td>-73.993881</td>\n",
       "      <td>40.729508</td>\n",
       "      <td>2018</td>\n",
       "      <td>5</td>\n",
       "      <td>0</td>\n",
       "      <td>21</td>\n",
       "      <td>808.0</td>\n",
       "      <td>1.0</td>\n",
       "    </tr>\n",
       "    <tr>\n",
       "      <th>2</th>\n",
       "      <td>0</td>\n",
       "      <td>00_001897.wav</td>\n",
       "      <td>1</td>\n",
       "      <td>547</td>\n",
       "      <td>-73.993881</td>\n",
       "      <td>40.729508</td>\n",
       "      <td>2017</td>\n",
       "      <td>44</td>\n",
       "      <td>0</td>\n",
       "      <td>13</td>\n",
       "      <td>537.0</td>\n",
       "      <td>1.0</td>\n",
       "    </tr>\n",
       "    <tr>\n",
       "      <th>3</th>\n",
       "      <td>0</td>\n",
       "      <td>00_001967.wav</td>\n",
       "      <td>1</td>\n",
       "      <td>547</td>\n",
       "      <td>-73.993881</td>\n",
       "      <td>40.729508</td>\n",
       "      <td>2017</td>\n",
       "      <td>3</td>\n",
       "      <td>0</td>\n",
       "      <td>16</td>\n",
       "      <td>544.0</td>\n",
       "      <td>1.0</td>\n",
       "    </tr>\n",
       "    <tr>\n",
       "      <th>4</th>\n",
       "      <td>0</td>\n",
       "      <td>00_004480.wav</td>\n",
       "      <td>1</td>\n",
       "      <td>547</td>\n",
       "      <td>-73.993881</td>\n",
       "      <td>40.729508</td>\n",
       "      <td>2017</td>\n",
       "      <td>6</td>\n",
       "      <td>2</td>\n",
       "      <td>12</td>\n",
       "      <td>2499.0</td>\n",
       "      <td>1.0</td>\n",
       "    </tr>\n",
       "    <tr>\n",
       "      <th>...</th>\n",
       "      <td>...</td>\n",
       "      <td>...</td>\n",
       "      <td>...</td>\n",
       "      <td>...</td>\n",
       "      <td>...</td>\n",
       "      <td>...</td>\n",
       "      <td>...</td>\n",
       "      <td>...</td>\n",
       "      <td>...</td>\n",
       "      <td>...</td>\n",
       "      <td>...</td>\n",
       "      <td>...</td>\n",
       "    </tr>\n",
       "    <tr>\n",
       "      <th>1546</th>\n",
       "      <td>46</td>\n",
       "      <td>46_013692.wav</td>\n",
       "      <td>1</td>\n",
       "      <td>559</td>\n",
       "      <td>-73.988785</td>\n",
       "      <td>40.733647</td>\n",
       "      <td>2018</td>\n",
       "      <td>47</td>\n",
       "      <td>4</td>\n",
       "      <td>1</td>\n",
       "      <td>4359.0</td>\n",
       "      <td>1.0</td>\n",
       "    </tr>\n",
       "    <tr>\n",
       "      <th>1547</th>\n",
       "      <td>46</td>\n",
       "      <td>46_018421.wav</td>\n",
       "      <td>1</td>\n",
       "      <td>559</td>\n",
       "      <td>-73.988785</td>\n",
       "      <td>40.733647</td>\n",
       "      <td>2019</td>\n",
       "      <td>5</td>\n",
       "      <td>0</td>\n",
       "      <td>7</td>\n",
       "      <td>5132.0</td>\n",
       "      <td>1.0</td>\n",
       "    </tr>\n",
       "    <tr>\n",
       "      <th>1548</th>\n",
       "      <td>46</td>\n",
       "      <td>46_018541.wav</td>\n",
       "      <td>1</td>\n",
       "      <td>559</td>\n",
       "      <td>-73.988785</td>\n",
       "      <td>40.733647</td>\n",
       "      <td>2018</td>\n",
       "      <td>40</td>\n",
       "      <td>4</td>\n",
       "      <td>19</td>\n",
       "      <td>5093.0</td>\n",
       "      <td>1.0</td>\n",
       "    </tr>\n",
       "    <tr>\n",
       "      <th>1549</th>\n",
       "      <td>46</td>\n",
       "      <td>46_019574.wav</td>\n",
       "      <td>1</td>\n",
       "      <td>559</td>\n",
       "      <td>-73.988785</td>\n",
       "      <td>40.733647</td>\n",
       "      <td>2018</td>\n",
       "      <td>45</td>\n",
       "      <td>6</td>\n",
       "      <td>2</td>\n",
       "      <td>5237.0</td>\n",
       "      <td>1.0</td>\n",
       "    </tr>\n",
       "    <tr>\n",
       "      <th>1550</th>\n",
       "      <td>46</td>\n",
       "      <td>46_019748.wav</td>\n",
       "      <td>1</td>\n",
       "      <td>559</td>\n",
       "      <td>-73.988785</td>\n",
       "      <td>40.733647</td>\n",
       "      <td>2018</td>\n",
       "      <td>47</td>\n",
       "      <td>1</td>\n",
       "      <td>20</td>\n",
       "      <td>5237.0</td>\n",
       "      <td>1.0</td>\n",
       "    </tr>\n",
       "  </tbody>\n",
       "</table>\n",
       "<p>1551 rows × 12 columns</p>\n",
       "</div>"
      ],
      "text/plain": [
       "      sensor_id audio_filename  borough  block  longitude   latitude  year  \\\n",
       "0             0  00_000066.wav        1    547 -73.993881  40.729508  2017   \n",
       "1             0  00_001707.wav        1    547 -73.993881  40.729508  2018   \n",
       "2             0  00_001897.wav        1    547 -73.993881  40.729508  2017   \n",
       "3             0  00_001967.wav        1    547 -73.993881  40.729508  2017   \n",
       "4             0  00_004480.wav        1    547 -73.993881  40.729508  2017   \n",
       "...         ...            ...      ...    ...        ...        ...   ...   \n",
       "1546         46  46_013692.wav        1    559 -73.988785  40.733647  2018   \n",
       "1547         46  46_018421.wav        1    559 -73.988785  40.733647  2019   \n",
       "1548         46  46_018541.wav        1    559 -73.988785  40.733647  2018   \n",
       "1549         46  46_019574.wav        1    559 -73.988785  40.733647  2018   \n",
       "1550         46  46_019748.wav        1    559 -73.988785  40.733647  2018   \n",
       "\n",
       "      week  day  hour  annotator_id  6_music_presence  \n",
       "0       28    2     0          95.0               1.0  \n",
       "1        5    0    21         808.0               1.0  \n",
       "2       44    0    13         537.0               1.0  \n",
       "3        3    0    16         544.0               1.0  \n",
       "4        6    2    12        2499.0               1.0  \n",
       "...    ...  ...   ...           ...               ...  \n",
       "1546    47    4     1        4359.0               1.0  \n",
       "1547     5    0     7        5132.0               1.0  \n",
       "1548    40    4    19        5093.0               1.0  \n",
       "1549    45    6     2        5237.0               1.0  \n",
       "1550    47    1    20        5237.0               1.0  \n",
       "\n",
       "[1551 rows x 12 columns]"
      ]
     },
     "execution_count": 112,
     "metadata": {},
     "output_type": "execute_result"
    }
   ],
   "source": [
    "#grouping by sensor ID\n",
    "\n",
    "df_filtered = df.groupby(['sensor_id', 'audio_filename', 'borough', 'block', 'longitude', \n",
    "            'latitude', 'year', 'week', 'day','hour']).median().reset_index()\n",
    "df_filtered"
   ]
  },
  {
   "cell_type": "code",
   "execution_count": 113,
   "metadata": {},
   "outputs": [
    {
     "data": {
      "text/plain": [
       "1551"
      ]
     },
     "execution_count": 113,
     "metadata": {},
     "output_type": "execute_result"
    }
   ],
   "source": [
    "len(df_filtered['audio_filename'].unique())"
   ]
  },
  {
   "cell_type": "code",
   "execution_count": 114,
   "metadata": {},
   "outputs": [],
   "source": [
    "audio_list = list(df_filtered['audio_filename'])"
   ]
  },
  {
   "cell_type": "markdown",
   "metadata": {},
   "source": [
    "### Here, we made a separate folder for all of the recordings where some type of music was present. "
   ]
  },
  {
   "cell_type": "markdown",
   "metadata": {},
   "source": [
    "##### From the separated recordings, we listened to some of the clips in order to gain a sense of the trends and patterns present in the audio itself. The notes can be found [here](https://docs.google.com/document/d/1ArMiZUOhUzymesyvP8JLYIT10ruRMqtorb9ELmWxrOY/edit?usp=sharing)."
   ]
  },
  {
   "cell_type": "code",
   "execution_count": 115,
   "metadata": {},
   "outputs": [],
   "source": [
    "destination_directory = \"Music_subset_ARISE\"\n",
    "if not os.path.exists(destination_directory):\n",
    "    os.mkdir(destination_directory)"
   ]
  },
  {
   "cell_type": "code",
   "execution_count": 116,
   "metadata": {},
   "outputs": [],
   "source": [
    "#making a separate folder for audio files with music\n",
    "#root = r\"C:\\Users\\kmcdo\\OneDrive\\Desktop\\audio\"\n",
    "#for file in audio_list:\n",
    "   # path_file = os.path.join(root,file)\n",
    "   # shutil.copy2(path_file, destination_directory)"
   ]
  },
  {
   "cell_type": "markdown",
   "metadata": {},
   "source": [
    "### Now, we are looking at the data using Seaborn graphs."
   ]
  },
  {
   "cell_type": "code",
   "execution_count": 117,
   "metadata": {},
   "outputs": [
    {
     "data": {
      "text/plain": [
       "Text(0.5, 1.0, 'Instances of music per day of the week')"
      ]
     },
     "execution_count": 117,
     "metadata": {},
     "output_type": "execute_result"
    },
    {
     "data": {
      "image/png": "[encoded data removed]",
      "text/plain": [
       "<Figure size 432x288 with 1 Axes>"
      ]
     },
     "metadata": {
      "needs_background": "light"
     },
     "output_type": "display_data"
    }
   ],
   "source": [
    "#Showing number of music instances based on day of the week\n",
    "ax = sns.countplot(x=\"day\", data=df_filtered)\n",
    "plt.title('Instances of music per day of the week')"
   ]
  },
  {
   "cell_type": "markdown",
   "metadata": {},
   "source": [
    "There isn't a lot of variation in instances of music based on day of the week, which is reasonable because this graph summarizes the data from every week the microphones were picking up audio, not just any one particular week."
   ]
  },
  {
   "cell_type": "code",
   "execution_count": 118,
   "metadata": {},
   "outputs": [
    {
     "data": {
      "text/plain": [
       "Text(0.5, 1.0, 'Instances of music per hour of the day')"
      ]
     },
     "execution_count": 118,
     "metadata": {},
     "output_type": "execute_result"
    },
    {
     "data": {
      "image/png": "[encoded data removed]",
      "text/plain": [
       "<Figure size 720x360 with 1 Axes>"
      ]
     },
     "metadata": {
      "needs_background": "light"
     },
     "output_type": "display_data"
    }
   ],
   "source": [
    "fig = plt.figure(figsize=(10,5))\n",
    "ax = sns.countplot(x=\"hour\", data=df_filtered)\n",
    "plt.title (\"Instances of music per hour of the day\")"
   ]
  },
  {
   "cell_type": "markdown",
   "metadata": {},
   "source": [
    "This graph shows the most clear and promising results. 2 PM to 5 PM was time period in which the most instances of music were recorded, and 3 AM to 6 AM had the least amount of instances of music. This shows that there is a strong hourly trend in the amount of music played, and that there isn't much variation in hourly music instances from day to day. "
   ]
  },
  {
   "cell_type": "code",
   "execution_count": 119,
   "metadata": {},
   "outputs": [
    {
     "data": {
      "text/plain": [
       "Text(0.5, 1.0, 'Instances of music per week of the year')"
      ]
     },
     "execution_count": 119,
     "metadata": {},
     "output_type": "execute_result"
    },
    {
     "data": {
      "image/png": "[encoded data removed]",
      "text/plain": [
       "<Figure size 1080x360 with 1 Axes>"
      ]
     },
     "metadata": {
      "needs_background": "light"
     },
     "output_type": "display_data"
    }
   ],
   "source": [
    "fig = plt.figure(figsize=(15,5))\n",
    "ax = sns.countplot(x=\"week\", data=df_filtered)\n",
    "plt.title (\"Instances of music per week of the year\")"
   ]
  },
  {
   "cell_type": "markdown",
   "metadata": {},
   "source": [
    "Similarly to the 'Instances of music per day of the week' graph, there is a lot of variation from week to week. It seemed probable that the instances of music per week would be much higher in the summertime (weeks 26 to 39) and much lower in the winter (weeks 51 to 13) due to temperature changes, but there is only a small rise in instances during the summer, and a large variation in instances recorded during the winter. "
   ]
  },
  {
   "cell_type": "code",
   "execution_count": 120,
   "metadata": {},
   "outputs": [
    {
     "data": {
      "text/plain": [
       "Text(0.5, 1.0, 'Instances of music per year')"
      ]
     },
     "execution_count": 120,
     "metadata": {},
     "output_type": "execute_result"
    },
    {
     "data": {
      "image/png": "[encoded data removed]",
      "text/plain": [
       "<Figure size 432x288 with 1 Axes>"
      ]
     },
     "metadata": {
      "needs_background": "light"
     },
     "output_type": "display_data"
    }
   ],
   "source": [
    "\n",
    "ax = sns.countplot(x=\"year\", data=df_filtered)\n",
    "plt.title (\"Instances of music per year\")"
   ]
  },
  {
   "cell_type": "code",
   "execution_count": 121,
   "metadata": {},
   "outputs": [
    {
     "data": {
      "text/plain": [
       "Text(0.5, 1.0, 'Instances of sound per year')"
      ]
     },
     "execution_count": 121,
     "metadata": {},
     "output_type": "execute_result"
    },
    {
     "data": {
      "image/png": "[encoded data removed]",
      "text/plain": [
       "<Figure size 432x288 with 1 Axes>"
      ]
     },
     "metadata": {
      "needs_background": "light"
     },
     "output_type": "display_data"
    }
   ],
   "source": [
    "ax = sns.countplot(x=\"year\", data=df_new)\n",
    "plt.title (\"Instances of sound per year\")"
   ]
  },
  {
   "cell_type": "markdown",
   "metadata": {},
   "source": [
    "## Geographic Analysis"
   ]
  },
  {
   "cell_type": "markdown",
   "metadata": {},
   "source": [
    "While the total number of audio files with music present tells us a lot about temporal trends, we also visualized the data using sensor numbers, in order to gain an understanding of trends in location within the dataset."
   ]
  },
  {
   "cell_type": "code",
   "execution_count": 122,
   "metadata": {},
   "outputs": [
    {
     "data": {
      "text/plain": [
       "Text(0.5, 1.0, 'Instances of music in dataset per sensor')"
      ]
     },
     "execution_count": 122,
     "metadata": {},
     "output_type": "execute_result"
    },
    {
     "data": {
      "image/png": "[encoded data removed]",
      "text/plain": [
       "<Figure size 864x360 with 1 Axes>"
      ]
     },
     "metadata": {
      "needs_background": "light"
     },
     "output_type": "display_data"
    }
   ],
   "source": [
    "fig = plt.figure(figsize=(12,5))\n",
    "ax = sns.countplot(x=\"sensor_id\", data=df_filtered)\n",
    "plt.title (\"Instances of music in dataset per sensor\")"
   ]
  },
  {
   "cell_type": "markdown",
   "metadata": {},
   "source": [
    "## Comparing the SONYC UST Dataset and the Filtered Music Dataset"
   ]
  },
  {
   "cell_type": "markdown",
   "metadata": {},
   "source": [
    "In order to determine the correlation between trends present in the new, filtered dataset and the original, larger dataset, we graphed the temporal and location trends in the UST dataset to compare them to what we've seen when visualizing the music dataset."
   ]
  },
  {
   "cell_type": "code",
   "execution_count": 123,
   "metadata": {},
   "outputs": [
    {
     "data": {
      "text/plain": [
       "Text(0.5, 1.0, 'Audio recordings per hour')"
      ]
     },
     "execution_count": 123,
     "metadata": {},
     "output_type": "execute_result"
    },
    {
     "data": {
      "image/png": "[encoded data removed]",
      "text/plain": [
       "<Figure size 720x360 with 1 Axes>"
      ]
     },
     "metadata": {
      "needs_background": "light"
     },
     "output_type": "display_data"
    }
   ],
   "source": [
    "#Showing number of audio files based on hour of the day\n",
    "fig = plt.figure(figsize=(10,5))\n",
    "ax = sns.countplot(x=\"hour\", data=df_new)\n",
    "plt.title('Audio recordings per hour')"
   ]
  },
  {
   "cell_type": "markdown",
   "metadata": {},
   "source": [
    "The SONYC UST dataset is similar to the music dataset in that it has a low period at night and in the early morning, but this graph shows that overall noise tends to increase during rush hour and decrease in the afternoon. The music dataset tends to increase slowly throughout the day, peak at around 4 PM, and decrease in the early morning. "
   ]
  },
  {
   "cell_type": "code",
   "execution_count": 124,
   "metadata": {},
   "outputs": [
    {
     "data": {
      "text/plain": [
       "Text(0.5, 1.0, 'Audio recordings per day of the week')"
      ]
     },
     "execution_count": 124,
     "metadata": {},
     "output_type": "execute_result"
    },
    {
     "data": {
      "image/png": "[encoded data removed]",
      "text/plain": [
       "<Figure size 432x288 with 1 Axes>"
      ]
     },
     "metadata": {
      "needs_background": "light"
     },
     "output_type": "display_data"
    }
   ],
   "source": [
    "#Showing number of audio files based on day of the week\n",
    "ax = sns.countplot(x=\"day\", data=df_new)\n",
    "plt.title('Audio recordings per day of the week')"
   ]
  },
  {
   "cell_type": "markdown",
   "metadata": {},
   "source": [
    "In the SONYC UST dataset, there is significantly more sound recorded during the week (days 0-4) than on the weekend (days 5-6), whereas in the music dataset, there is slightly more music recorded during the weekend. "
   ]
  },
  {
   "cell_type": "code",
   "execution_count": 125,
   "metadata": {},
   "outputs": [
    {
     "data": {
      "text/plain": [
       "Text(0.5, 1.0, 'Audio recordings per week of the year')"
      ]
     },
     "execution_count": 125,
     "metadata": {},
     "output_type": "execute_result"
    },
    {
     "data": {
      "image/png": "[encoded data removed]",
      "text/plain": [
       "<Figure size 1080x360 with 1 Axes>"
      ]
     },
     "metadata": {
      "needs_background": "light"
     },
     "output_type": "display_data"
    }
   ],
   "source": [
    "#Showing number of music instances based on week of the year\n",
    "fig = plt.figure(figsize=(15,5))\n",
    "ax = sns.countplot(x=\"week\", data=df_new)\n",
    "plt.title('Audio recordings per week of the year')"
   ]
  },
  {
   "cell_type": "markdown",
   "metadata": {},
   "source": [
    "In the SONYC UST dataset, there is significantly more audio picked up during the winter (pink columns) than the rest of the year, whereas in the music dataset, there is slightly more music recorded during the summer and slightly less during the winter."
   ]
  },
  {
   "cell_type": "code",
   "execution_count": 126,
   "metadata": {},
   "outputs": [
    {
     "data": {
      "text/plain": [
       "Text(0.5, 1.0, 'Audio recordings in dataset per sensor')"
      ]
     },
     "execution_count": 126,
     "metadata": {},
     "output_type": "execute_result"
    },
    {
     "data": {
      "image/png": "[encoded data removed]",
      "text/plain": [
       "<Figure size 864x360 with 1 Axes>"
      ]
     },
     "metadata": {
      "needs_background": "light"
     },
     "output_type": "display_data"
    }
   ],
   "source": [
    "fig = plt.figure(figsize=(12,5))\n",
    "ax = sns.countplot(x=\"sensor_id\", data=df)\n",
    "plt.title (\"Audio recordings in dataset per sensor\")"
   ]
  },
  {
   "cell_type": "markdown",
   "metadata": {},
   "source": [
    "While there are clearly some sensors that pick up more sound than others, this graph does not take into account the amount of time a sensor was deployed. It is entirely possible that it is not louder in the areas where those sensors are, they were just deployed for a longer period of time. "
   ]
  },
  {
   "cell_type": "code",
   "execution_count": 144,
   "metadata": {
    "scrolled": true
   },
   "outputs": [
    {
     "data": {
      "text/plain": [
       "1202    31_016744.wav\n",
       "191     03_017781.wav\n",
       "406     05_019325.wav\n",
       "93      01_017266.wav\n",
       "706     16_010043.wav\n",
       "            ...      \n",
       "1089    29_016457.wav\n",
       "570     07_009987.wav\n",
       "760     19_017329.wav\n",
       "1130    29_019425.wav\n",
       "367     05_017772.wav\n",
       "Name: audio_filename, Length: 200, dtype: object"
      ]
     },
     "execution_count": 144,
     "metadata": {},
     "output_type": "execute_result"
    }
   ],
   "source": [
    "random_audio = df_filtered['audio_filename'].sample(n=200)\n",
    "random_audio"
   ]
  },
  {
   "cell_type": "code",
   "execution_count": 158,
   "metadata": {},
   "outputs": [
    {
     "name": "stdout",
     "output_type": "stream",
     "text": [
      "31_016744.wav\n",
      "03_017781.wav\n",
      "05_019325.wav\n",
      "01_017266.wav\n",
      "16_010043.wav\n",
      "22_019291.wav\n",
      "05_009012.wav\n",
      "01_005849.wav\n",
      "11_018261.wav\n",
      "29_016872.wav\n",
      "29_012959.wav\n",
      "36_019862.wav\n",
      "14_005856.wav\n",
      "24_018795.wav\n",
      "09_010384.wav\n",
      "34_006641.wav\n",
      "35_019321.wav\n",
      "05_004045.wav\n",
      "31_016320.wav\n",
      "29_009006.wav\n",
      "01_017065.wav\n",
      "08_018801.wav\n",
      "27_012546.wav\n",
      "32_020450.wav\n",
      "27_018292.wav\n",
      "34_005596.wav\n",
      "32_017703.wav\n",
      "05_020189.wav\n",
      "16_003604.wav\n",
      "06_013033.wav\n",
      "00_012878.wav\n",
      "05_016537.wav\n",
      "32_004971.wav\n",
      "04_018137.wav\n",
      "01_020086.wav\n",
      "01_017593.wav\n",
      "04_009717.wav\n",
      "37_004313.wav\n",
      "04_018743.wav\n",
      "06_018099.wav\n",
      "27_004341.wav\n",
      "05_017748.wav\n",
      "10_011931.wav\n",
      "24_017927.wav\n",
      "05_018884.wav\n",
      "46_018421.wav\n",
      "31_017151.wav\n",
      "38_017141.wav\n",
      "05_006058.wav\n",
      "17_020671.wav\n",
      "01_001667.wav\n",
      "35_016512.wav\n",
      "05_012463.wav\n",
      "31_017364.wav\n",
      "24_006822.wav\n",
      "37_004612.wav\n",
      "35_002153.wav\n",
      "17_019843.wav\n",
      "05_020660.wav\n",
      "10_019405.wav\n",
      "02_013583.wav\n",
      "01_000061.wav\n",
      "05_018881.wav\n",
      "25_018552.wav\n",
      "05_018496.wav\n",
      "35_010067.wav\n",
      "38_019285.wav\n",
      "03_002934.wav\n",
      "18_011901.wav\n",
      "41_016845.wav\n",
      "04_006393.wav\n",
      "32_018925.wav\n",
      "06_020160.wav\n",
      "04_018831.wav\n",
      "38_017037.wav\n",
      "34_011459.wav\n",
      "38_004974.wav\n",
      "05_020706.wav\n",
      "11_017372.wav\n",
      "05_019945.wav\n",
      "29_020222.wav\n",
      "01_002625.wav\n",
      "24_007498.wav\n",
      "01_008507.wav\n",
      "01_001594.wav\n",
      "01_002247.wav\n",
      "06_017160.wav\n",
      "04_020577.wav\n",
      "16_007419.wav\n",
      "05_020322.wav\n",
      "12_019749.wav\n",
      "10_003066.wav\n",
      "35_012138.wav\n",
      "33_000560.wav\n",
      "01_003573.wav\n",
      "05_007573.wav\n",
      "17_008931.wav\n",
      "06_019471.wav\n",
      "05_019520.wav\n",
      "06_010458.wav\n",
      "06_012151.wav\n",
      "05_020622.wav\n",
      "11_020434.wav\n",
      "13_016733.wav\n",
      "05_000306.wav\n",
      "32_018599.wav\n",
      "27_019487.wav\n",
      "31_017824.wav\n",
      "29_005376.wav\n",
      "27_017656.wav\n",
      "41_020384.wav\n",
      "31_005617.wav\n",
      "31_000246.wav\n",
      "01_017816.wav\n",
      "16_011629.wav\n",
      "38_009103.wav\n",
      "05_018849.wav\n",
      "05_010339.wav\n",
      "06_005578.wav\n",
      "01_019096.wav\n",
      "20_008466.wav\n",
      "27_020380.wav\n",
      "05_000169.wav\n",
      "38_002710.wav\n",
      "01_006310.wav\n",
      "31_007840.wav\n",
      "36_004977.wav\n",
      "01_006814.wav\n",
      "23_009193.wav\n",
      "27_004734.wav\n",
      "11_018833.wav\n",
      "04_020211.wav\n",
      "10_019364.wav\n",
      "29_010720.wav\n",
      "29_007944.wav\n",
      "03_017367.wav\n",
      "24_017667.wav\n",
      "00_020893.wav\n",
      "24_020865.wav\n",
      "41_019389.wav\n",
      "37_004376.wav\n",
      "31_006017.wav\n",
      "31_001445.wav\n",
      "27_020453.wav\n",
      "29_017800.wav\n",
      "05_020639.wav\n",
      "24_018108.wav\n",
      "22_019508.wav\n",
      "29_006444.wav\n",
      "19_018508.wav\n",
      "20_020903.wav\n",
      "29_007998.wav\n",
      "41_010243.wav\n",
      "05_005445.wav\n",
      "24_019717.wav\n",
      "04_004815.wav\n",
      "25_007798.wav\n",
      "05_017379.wav\n",
      "16_016395.wav\n",
      "10_017357.wav\n",
      "05_006546.wav\n",
      "27_005680.wav\n",
      "01_020602.wav\n",
      "32_010440.wav\n",
      "40_007888.wav\n",
      "35_019796.wav\n",
      "05_019870.wav\n",
      "33_007534.wav\n",
      "05_006763.wav\n",
      "19_003251.wav\n",
      "28_009802.wav\n",
      "37_001654.wav\n",
      "02_012399.wav\n",
      "05_005222.wav\n",
      "29_018928.wav\n",
      "36_016869.wav\n",
      "35_016922.wav\n",
      "05_020678.wav\n",
      "01_019532.wav\n",
      "03_006105.wav\n",
      "27_016891.wav\n",
      "24_020493.wav\n",
      "06_019236.wav\n",
      "13_006328.wav\n",
      "11_008222.wav\n",
      "37_006041.wav\n",
      "08_005386.wav\n",
      "06_016401.wav\n",
      "24_019856.wav\n",
      "06_010689.wav\n",
      "23_019276.wav\n",
      "01_004668.wav\n",
      "05_018280.wav\n",
      "16_000482.wav\n",
      "24_018326.wav\n",
      "29_016457.wav\n",
      "07_009987.wav\n",
      "19_017329.wav\n",
      "29_019425.wav\n",
      "05_017772.wav\n"
     ]
    }
   ],
   "source": [
    "with open('random_audio.csv', 'w', newline='') as file:\n",
    "    writer = csv.writer(file)\n",
    "    writer.writerow([\"audio_filename\", \"music_presence\", \"annotations\"])\n",
    "    \n",
    "    for name in random_audio:\n",
    "        print(name)\n",
    "        writer.writerow([name])"
   ]
  },
  {
   "cell_type": "code",
   "execution_count": 159,
   "metadata": {},
   "outputs": [
    {
     "data": {
      "text/plain": [
       "'C:\\\\Users\\\\kmcdo'"
      ]
     },
     "execution_count": 159,
     "metadata": {},
     "output_type": "execute_result"
    }
   ],
   "source": [
    "pwd"
   ]
  },
  {
   "cell_type": "code",
   "execution_count": null,
   "metadata": {},
   "outputs": [],
   "source": []
  }
 ],
 "metadata": {
  "kernelspec": {
   "display_name": "Python [conda env:MARL Task 1] *",
   "language": "python",
   "name": "conda-env-MARL_Task_1-py"
  },
  "language_info": {
   "codemirror_mode": {
    "name": "ipython",
    "version": 3
   },
   "file_extension": ".py",
   "mimetype": "text/x-python",
   "name": "python",
   "nbconvert_exporter": "python",
   "pygments_lexer": "ipython3",
   "version": "3.7.7"
  }
 },
 "nbformat": 4,
 "nbformat_minor": 4
}
